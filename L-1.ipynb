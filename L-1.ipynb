{
 "cells": [
  {
   "cell_type": "markdown",
   "id": "67b2966a",
   "metadata": {},
   "source": [
    "## Agenda:\n",
    "####    1. What is Python and Why Python ?\n",
    "####    2. Tools to use for Python programming.\n",
    "####    3. Variables and Datatypes\n",
    "####    4. Strings"
   ]
  },
  {
   "cell_type": "code",
   "execution_count": null,
   "id": "01a75bd1",
   "metadata": {},
   "outputs": [],
   "source": [
    "1. What is Python and Why Python ?\n",
    "- Python-OOPS(Object Oriented Programminh Language)-> Classes and Objects\n",
    "Advantages of Python:\n",
    "    - OOPS\n",
    "    - Easy to learn\n",
    "    - Understandable Code and High Readability\n",
    "    - Widely Used in Data Science/DL/AI/ML\n",
    "    - Also in many Integration Systems.\n",
    "    \n",
    "Disadvantages:\n",
    "    - Python does not work with a compiler. Python is an interpreted programming language."
   ]
  },
  {
   "cell_type": "code",
   "execution_count": null,
   "id": "24a8d53e",
   "metadata": {},
   "outputs": [],
   "source": [
    "Compiler and Interpreter\n",
    "\n",
    "Interpreter : computer understands Binary Lang (0s and 1s)\n",
    "              It is then convrtd to HLL and then Executed."
   ]
  },
  {
   "cell_type": "code",
   "execution_count": null,
   "id": "1138444b",
   "metadata": {},
   "outputs": [],
   "source": [
    "2. Tools to use for Python programming.\n",
    "  - Jupyter Notebook (Anaconda)\n",
    "  - PyCharm (IDE)\n",
    "  - VS-Code (Visual Studio -> IDE)  "
   ]
  },
  {
   "cell_type": "code",
   "execution_count": null,
   "id": "9c5de39d",
   "metadata": {},
   "outputs": [],
   "source": [
    "3. Variables :\n",
    "\n",
    "you will give me ur address. I will see you in your address.\n",
    "    V-2 -> Shivani "
   ]
  },
  {
   "cell_type": "code",
   "execution_count": 15,
   "id": "70751d70",
   "metadata": {},
   "outputs": [],
   "source": [
    "a = -9"
   ]
  },
  {
   "cell_type": "code",
   "execution_count": 16,
   "id": "8a708438",
   "metadata": {},
   "outputs": [
    {
     "data": {
      "text/plain": [
       "int"
      ]
     },
     "execution_count": 16,
     "metadata": {},
     "output_type": "execute_result"
    }
   ],
   "source": [
    "type(a)"
   ]
  },
  {
   "cell_type": "code",
   "execution_count": 24,
   "id": "7db549fc",
   "metadata": {},
   "outputs": [],
   "source": [
    "b = \"-Shivani\""
   ]
  },
  {
   "cell_type": "code",
   "execution_count": 25,
   "id": "70ef03f0",
   "metadata": {},
   "outputs": [
    {
     "data": {
      "text/plain": [
       "str"
      ]
     },
     "execution_count": 25,
     "metadata": {},
     "output_type": "execute_result"
    }
   ],
   "source": [
    "type(b)"
   ]
  },
  {
   "cell_type": "code",
   "execution_count": 30,
   "id": "48c423c8",
   "metadata": {},
   "outputs": [],
   "source": [
    "st = \"-\""
   ]
  },
  {
   "cell_type": "code",
   "execution_count": 31,
   "id": "c0988293",
   "metadata": {},
   "outputs": [
    {
     "data": {
      "text/plain": [
       "str"
      ]
     },
     "execution_count": 31,
     "metadata": {},
     "output_type": "execute_result"
    }
   ],
   "source": [
    "type(st)"
   ]
  },
  {
   "cell_type": "code",
   "execution_count": 17,
   "id": "ba689a95",
   "metadata": {},
   "outputs": [],
   "source": [
    "c = -0.576"
   ]
  },
  {
   "cell_type": "code",
   "execution_count": 18,
   "id": "9dd559b8",
   "metadata": {},
   "outputs": [
    {
     "data": {
      "text/plain": [
       "float"
      ]
     },
     "execution_count": 18,
     "metadata": {},
     "output_type": "execute_result"
    }
   ],
   "source": [
    "type(c)"
   ]
  },
  {
   "cell_type": "code",
   "execution_count": 7,
   "id": "9f00ce5a",
   "metadata": {},
   "outputs": [
    {
     "name": "stdout",
     "output_type": "stream",
     "text": [
      "9\n"
     ]
    }
   ],
   "source": [
    "print(a)"
   ]
  },
  {
   "cell_type": "code",
   "execution_count": null,
   "id": "6e0b5d0c",
   "metadata": {},
   "outputs": [],
   "source": [
    "3. Datatypes: \n",
    "    1. String\n",
    "    2. Integer\n",
    "    3. Float\n",
    "    4. Complex"
   ]
  },
  {
   "cell_type": "code",
   "execution_count": null,
   "id": "bc9f0f98",
   "metadata": {},
   "outputs": [],
   "source": [
    "4. Strings : Anything written within the double quotes is a string. Strings are a collection/sequence of characters.\n",
    "    Property:\n",
    "        1. It is immutable(Once the value is assigned we can't change it)"
   ]
  },
  {
   "cell_type": "code",
   "execution_count": 60,
   "id": "156f2f43",
   "metadata": {},
   "outputs": [],
   "source": [
    "a = \"Akash\""
   ]
  },
  {
   "cell_type": "code",
   "execution_count": 61,
   "id": "8e1271a8",
   "metadata": {},
   "outputs": [
    {
     "data": {
      "text/plain": [
       "'Akash'"
      ]
     },
     "execution_count": 61,
     "metadata": {},
     "output_type": "execute_result"
    }
   ],
   "source": [
    "a"
   ]
  },
  {
   "cell_type": "code",
   "execution_count": 57,
   "id": "9b530a0d",
   "metadata": {},
   "outputs": [],
   "source": [
    "First_Name = \"Shivani\""
   ]
  },
  {
   "cell_type": "code",
   "execution_count": 58,
   "id": "a3704130",
   "metadata": {},
   "outputs": [],
   "source": [
    "Last_Name = \"Chandel\""
   ]
  },
  {
   "cell_type": "code",
   "execution_count": 62,
   "id": "9728d157",
   "metadata": {},
   "outputs": [
    {
     "data": {
      "text/plain": [
       "'Akash'"
      ]
     },
     "execution_count": 62,
     "metadata": {},
     "output_type": "execute_result"
    }
   ],
   "source": [
    "a"
   ]
  },
  {
   "cell_type": "code",
   "execution_count": 63,
   "id": "218cf873",
   "metadata": {},
   "outputs": [],
   "source": [
    "c = a[2]"
   ]
  },
  {
   "cell_type": "code",
   "execution_count": 64,
   "id": "e3a68453",
   "metadata": {},
   "outputs": [
    {
     "data": {
      "text/plain": [
       "'a'"
      ]
     },
     "execution_count": 64,
     "metadata": {},
     "output_type": "execute_result"
    }
   ],
   "source": [
    "c"
   ]
  },
  {
   "cell_type": "code",
   "execution_count": 65,
   "id": "c472858f",
   "metadata": {},
   "outputs": [
    {
     "data": {
      "text/plain": [
       "int"
      ]
     },
     "execution_count": 65,
     "metadata": {},
     "output_type": "execute_result"
    }
   ],
   "source": [
    "type(len(a))"
   ]
  },
  {
   "cell_type": "code",
   "execution_count": null,
   "id": "1d9fe0e1",
   "metadata": {},
   "outputs": [],
   "source": [
    "Ask is: I want to merge Shivani and Chandel and form \"Shivani Chandel\""
   ]
  },
  {
   "cell_type": "code",
   "execution_count": 66,
   "id": "eae56660",
   "metadata": {},
   "outputs": [
    {
     "data": {
      "text/plain": [
       "'Shivani'"
      ]
     },
     "execution_count": 66,
     "metadata": {},
     "output_type": "execute_result"
    }
   ],
   "source": [
    "First_Name"
   ]
  },
  {
   "cell_type": "code",
   "execution_count": 68,
   "id": "bece4b1b",
   "metadata": {},
   "outputs": [
    {
     "data": {
      "text/plain": [
       "'Chandel'"
      ]
     },
     "execution_count": 68,
     "metadata": {},
     "output_type": "execute_result"
    }
   ],
   "source": [
    "Last_Name"
   ]
  },
  {
   "cell_type": "code",
   "execution_count": 113,
   "id": "9fe9a04b",
   "metadata": {},
   "outputs": [],
   "source": [
    "Full_Name = First_Name + \" \" + Last_Name   # Concatenation of Strings"
   ]
  },
  {
   "cell_type": "code",
   "execution_count": 115,
   "id": "24bb66e4",
   "metadata": {},
   "outputs": [
    {
     "data": {
      "text/plain": [
       "'Shivani Chandel'"
      ]
     },
     "execution_count": 115,
     "metadata": {},
     "output_type": "execute_result"
    }
   ],
   "source": [
    "Full_Name"
   ]
  },
  {
   "cell_type": "code",
   "execution_count": null,
   "id": "b316c429",
   "metadata": {},
   "outputs": [],
   "source": []
  },
  {
   "cell_type": "code",
   "execution_count": 73,
   "id": "056fdb8f",
   "metadata": {},
   "outputs": [
    {
     "ename": "TypeError",
     "evalue": "can only concatenate str (not \"int\") to str",
     "output_type": "error",
     "traceback": [
      "\u001b[1;31m---------------------------------------------------------------------------\u001b[0m",
      "\u001b[1;31mTypeError\u001b[0m                                 Traceback (most recent call last)",
      "\u001b[1;32m~\\AppData\\Local\\Temp/ipykernel_6524/1839526202.py\u001b[0m in \u001b[0;36m<module>\u001b[1;34m\u001b[0m\n\u001b[1;32m----> 1\u001b[1;33m \u001b[0mFull_Name_dum\u001b[0m \u001b[1;33m=\u001b[0m \u001b[0mFirst_Name\u001b[0m \u001b[1;33m+\u001b[0m \u001b[1;34m\" \"\u001b[0m \u001b[1;33m+\u001b[0m\u001b[0mLast_Name\u001b[0m\u001b[1;33m+\u001b[0m\u001b[1;36m9\u001b[0m\u001b[1;33m\u001b[0m\u001b[1;33m\u001b[0m\u001b[0m\n\u001b[0m",
      "\u001b[1;31mTypeError\u001b[0m: can only concatenate str (not \"int\") to str"
     ]
    }
   ],
   "source": [
    "Full_Name_dum = First_Name + \" \" +Last_Name + 9"
   ]
  },
  {
   "cell_type": "code",
   "execution_count": 74,
   "id": "381f40c9",
   "metadata": {},
   "outputs": [
    {
     "data": {
      "text/plain": [
       "str"
      ]
     },
     "execution_count": 74,
     "metadata": {},
     "output_type": "execute_result"
    }
   ],
   "source": [
    "type(First_Name)"
   ]
  },
  {
   "cell_type": "code",
   "execution_count": 75,
   "id": "c5b44d53",
   "metadata": {},
   "outputs": [
    {
     "data": {
      "text/plain": [
       "str"
      ]
     },
     "execution_count": 75,
     "metadata": {},
     "output_type": "execute_result"
    }
   ],
   "source": [
    "type(Last_Name)"
   ]
  },
  {
   "cell_type": "code",
   "execution_count": 76,
   "id": "16a68375",
   "metadata": {},
   "outputs": [
    {
     "data": {
      "text/plain": [
       "str"
      ]
     },
     "execution_count": 76,
     "metadata": {},
     "output_type": "execute_result"
    }
   ],
   "source": [
    "type(\" \")      # Space within Double Quotes is also considered a character in a string"
   ]
  },
  {
   "cell_type": "code",
   "execution_count": null,
   "id": "890ae1b1",
   "metadata": {},
   "outputs": [],
   "source": [
    "String Slicing"
   ]
  },
  {
   "cell_type": "code",
   "execution_count": 87,
   "id": "80592c31",
   "metadata": {},
   "outputs": [
    {
     "data": {
      "text/plain": [
       "'Shivani Chandel'"
      ]
     },
     "execution_count": 87,
     "metadata": {},
     "output_type": "execute_result"
    }
   ],
   "source": [
    "Full_Name"
   ]
  },
  {
   "cell_type": "code",
   "execution_count": 81,
   "id": "2564531d",
   "metadata": {},
   "outputs": [
    {
     "data": {
      "text/plain": [
       "'i'"
      ]
     },
     "execution_count": 81,
     "metadata": {},
     "output_type": "execute_result"
    }
   ],
   "source": [
    "Full_Name[2]"
   ]
  },
  {
   "cell_type": "code",
   "execution_count": 82,
   "id": "2bff3c76",
   "metadata": {},
   "outputs": [
    {
     "data": {
      "text/plain": [
       "'Shiv'"
      ]
     },
     "execution_count": 82,
     "metadata": {},
     "output_type": "execute_result"
    }
   ],
   "source": [
    "Full_Name[0:4]  \n",
    "# Lower Bound = 0\n",
    "# Upper Bound = 4\n",
    "# The count will continue from (Lower Bound) to (Upper Bound -1)"
   ]
  },
  {
   "cell_type": "code",
   "execution_count": 107,
   "id": "c501de7a",
   "metadata": {},
   "outputs": [],
   "source": [
    "re = Full_Name[0:7]"
   ]
  },
  {
   "cell_type": "code",
   "execution_count": 108,
   "id": "3cab53d2",
   "metadata": {},
   "outputs": [
    {
     "data": {
      "text/plain": [
       "'Shivani'"
      ]
     },
     "execution_count": 108,
     "metadata": {},
     "output_type": "execute_result"
    }
   ],
   "source": [
    "re"
   ]
  },
  {
   "cell_type": "code",
   "execution_count": 99,
   "id": "27566907",
   "metadata": {},
   "outputs": [
    {
     "data": {
      "text/plain": [
       "'Svi'"
      ]
     },
     "execution_count": 99,
     "metadata": {},
     "output_type": "execute_result"
    }
   ],
   "source": [
    "re[::3]"
   ]
  },
  {
   "cell_type": "code",
   "execution_count": 102,
   "id": "d37836b6",
   "metadata": {},
   "outputs": [
    {
     "data": {
      "text/plain": [
       "'inavihS'"
      ]
     },
     "execution_count": 102,
     "metadata": {},
     "output_type": "execute_result"
    }
   ],
   "source": [
    "re[::-1]   # Prints the string in a reverse order"
   ]
  },
  {
   "cell_type": "code",
   "execution_count": 112,
   "id": "9d4c1972",
   "metadata": {},
   "outputs": [
    {
     "data": {
      "text/plain": [
       "'inavih'"
      ]
     },
     "execution_count": 112,
     "metadata": {},
     "output_type": "execute_result"
    }
   ],
   "source": [
    "re[7:0:-1]"
   ]
  },
  {
   "cell_type": "code",
   "execution_count": null,
   "id": "cb7d9f4e",
   "metadata": {},
   "outputs": [],
   "source": [
    "Task : \n",
    "    1. Take \"Akash Nandi\" and store it in a variable.\n",
    "    2. Extract \"Akash\" and \"Nandi\" and store in separate variables first and last\n",
    "    3. Perform Slicing operation to print the last name in a reverse order.\n",
    "    4. Perform Slicing Operation on the First Name with a step of 2."
   ]
  },
  {
   "cell_type": "code",
   "execution_count": null,
   "id": "598ab2d1",
   "metadata": {},
   "outputs": [],
   "source": [
    "Task Concatenation:\n",
    "    1. Take two variables and store \"Akash\" and \"Nandi\"\n",
    "    2. Perform Concatenation between the two in such a way that the Last Name is shown first and the First Name is shown at last.\n",
    "    3. Store 3 and 9 in two variables as a string and print 39 and 93 as string datatypes."
   ]
  }
 ],
 "metadata": {
  "kernelspec": {
   "display_name": "Python 3 (ipykernel)",
   "language": "python",
   "name": "python3"
  },
  "language_info": {
   "codemirror_mode": {
    "name": "ipython",
    "version": 3
   },
   "file_extension": ".py",
   "mimetype": "text/x-python",
   "name": "python",
   "nbconvert_exporter": "python",
   "pygments_lexer": "ipython3",
   "version": "3.9.7"
  }
 },
 "nbformat": 4,
 "nbformat_minor": 5
}
